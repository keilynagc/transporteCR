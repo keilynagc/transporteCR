{
 "cells": [
  {
   "cell_type": "markdown",
   "metadata": {},
   "source": [
    "# Cargar los datos"
   ]
  },
  {
   "cell_type": "code",
   "execution_count": 29,
   "metadata": {},
   "outputs": [],
   "source": [
    "import pandas as pd\n",
    "import os \n"
   ]
  },
  {
   "cell_type": "code",
   "execution_count": 30,
   "metadata": {},
   "outputs": [],
   "source": [
    "# rutas de artchivos \n",
    "root = \"../data/\" \n",
    "tarifas = \"ARESEP_Tarifas.csv\"\n",
    "pasajeros= \"pasajeros_movilizados/\""
   ]
  },
  {
   "cell_type": "markdown",
   "metadata": {},
   "source": [
    "## Tarifa de los diferentes buses"
   ]
  },
  {
   "cell_type": "code",
   "execution_count": 45,
   "metadata": {},
   "outputs": [],
   "source": [
    "#datos de tarifas \n",
    "df_tarifas = pd.read_csv(root+tarifas)\n"
   ]
  },
  {
   "cell_type": "markdown",
   "metadata": {},
   "source": [
    "## Pasajeros que utilizan los servicios"
   ]
  },
  {
   "cell_type": "code",
   "execution_count": null,
   "metadata": {},
   "outputs": [
    {
     "name": "stdout",
     "output_type": "stream",
     "text": [
      "['ARESEP_Pasajeros_movilizados_2024_Enero.csv', 'ARESEP_Pasajeros_movilizados_2024_Febrero.csv', 'ARESEP_Pasajeros_movilizados_2024_Marzo.csv']\n"
     ]
    }
   ],
   "source": [
    "\n",
    "# Datos de pasajeros movilizados\n",
    "# obtener nombre de los files en un folder \n",
    "pasajeros_files = root + pasajeros\n",
    "files = os.listdir(pasajeros_files)\n",
    "print(files)\n",
    "df_pasajeros = pd.DataFrame()\n",
    "for file in files:\n",
    "    df_mes = pd.read_csv(pasajeros_files + file)\n",
    "    df_pasajeros = pd.concat([df_pasajeros,df_mes], axis=0) # axis 0 para combinar lso df verticalmente"
   ]
  },
  {
   "cell_type": "markdown",
   "metadata": {},
   "source": [
    "# Analysis exploratorio \n"
   ]
  },
  {
   "cell_type": "markdown",
   "metadata": {},
   "source": [
    "## Datos de los pasajeros movilizados"
   ]
  },
  {
   "cell_type": "code",
   "execution_count": 44,
   "metadata": {},
   "outputs": [
    {
     "name": "stdout",
     "output_type": "stream",
     "text": [
      "<class 'pandas.core.frame.DataFrame'>\n",
      "Index: 3131 entries, 0 to 1035\n",
      "Data columns (total 14 columns):\n",
      " #   Column                  Non-Null Count  Dtype  \n",
      "---  ------                  --------------  -----  \n",
      " 0   Nombre Operador         3131 non-null   object \n",
      " 1   Cédula                  3131 non-null   object \n",
      " 2   Código Ruta             3131 non-null   object \n",
      " 3   Descripción Ruta        3131 non-null   object \n",
      " 4   Código Ramal            3131 non-null   object \n",
      " 5   Descripción Ramal       3094 non-null   object \n",
      " 6   Mes                     3131 non-null   int64  \n",
      " 7   Año                     3131 non-null   int64  \n",
      " 8   pasajeroEquivalente     0 non-null      float64\n",
      " 9   pasajerosTotal          0 non-null      float64\n",
      " 10  Pasajeros Adulto Mayor  3037 non-null   float64\n",
      " 11  Pasajeros Regulares     3100 non-null   float64\n",
      " 12  Carreras                3105 non-null   float64\n",
      " 13  Ingresos                3100 non-null   float64\n",
      "dtypes: float64(6), int64(2), object(6)\n",
      "memory usage: 366.9+ KB\n"
     ]
    }
   ],
   "source": [
    "df_pasajeros.info()"
   ]
  },
  {
   "cell_type": "markdown",
   "metadata": {},
   "source": [
    "## Datos de las tarifas de los buses"
   ]
  },
  {
   "cell_type": "code",
   "execution_count": 46,
   "metadata": {},
   "outputs": [
    {
     "name": "stdout",
     "output_type": "stream",
     "text": [
      "<class 'pandas.core.frame.DataFrame'>\n",
      "RangeIndex: 4447 entries, 0 to 4446\n",
      "Data columns (total 14 columns):\n",
      " #   Column                                   Non-Null Count  Dtype  \n",
      "---  ------                                   --------------  -----  \n",
      " 0   Código Ruta                              4447 non-null   object \n",
      " 1   Nombre Ruta                              4447 non-null   object \n",
      " 2   Nombre Fraccionamiento                   4447 non-null   object \n",
      " 3   Km por Viaje (Promedio)                  4447 non-null   float64\n",
      " 4   Tarifa Regular (¢)                       4447 non-null   float64\n",
      " 5   Tarifa Adulto Mayor (¢)                  4447 non-null   float64\n",
      " 6   Resolución                               4447 non-null   object \n",
      " 7   Fecha de Resolución                      4447 non-null   object \n",
      " 8   Gaceta                                   4447 non-null   int64  \n",
      " 9   Alcance                                  4447 non-null   int64  \n",
      " 10  Fecha de la Gaceta                       4447 non-null   object \n",
      " 11  Fecha Vigencia                           4447 non-null   object \n",
      " 12  Expediente (Requisito de Admisibilidad)  4346 non-null   object \n",
      " 13  Operadores                               4447 non-null   object \n",
      "dtypes: float64(3), int64(2), object(9)\n",
      "memory usage: 486.5+ KB\n"
     ]
    }
   ],
   "source": [
    "df_tarifas.info()"
   ]
  },
  {
   "cell_type": "code",
   "execution_count": 54,
   "metadata": {},
   "outputs": [
    {
     "data": {
      "text/plain": [
       "(3131, 14)"
      ]
     },
     "execution_count": 54,
     "metadata": {},
     "output_type": "execute_result"
    }
   ],
   "source": [
    "df_pasajeros.describe()\n",
    "df_pasajeros.shape\n"
   ]
  },
  {
   "cell_type": "code",
   "execution_count": 53,
   "metadata": {},
   "outputs": [
    {
     "data": {
      "text/plain": [
       "(4447, 14)"
      ]
     },
     "execution_count": 53,
     "metadata": {},
     "output_type": "execute_result"
    }
   ],
   "source": [
    "df_tarifas.describe()\n",
    "df_tarifas.shape"
   ]
  },
  {
   "cell_type": "markdown",
   "metadata": {},
   "source": [
    "# Limpieza de los datos "
   ]
  },
  {
   "cell_type": "markdown",
   "metadata": {},
   "source": [
    "## Verificacion de nulls y eliminacion de columnas no necesarias en el analysis \n"
   ]
  },
  {
   "cell_type": "code",
   "execution_count": null,
   "metadata": {},
   "outputs": [],
   "source": []
  }
 ],
 "metadata": {
  "kernelspec": {
   "display_name": "proyecto",
   "language": "python",
   "name": "python3"
  },
  "language_info": {
   "codemirror_mode": {
    "name": "ipython",
    "version": 3
   },
   "file_extension": ".py",
   "mimetype": "text/x-python",
   "name": "python",
   "nbconvert_exporter": "python",
   "pygments_lexer": "ipython3",
   "version": "3.12.0"
  }
 },
 "nbformat": 4,
 "nbformat_minor": 2
}
