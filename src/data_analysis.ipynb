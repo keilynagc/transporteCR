{
 "cells": [
  {
   "cell_type": "markdown",
   "metadata": {},
   "source": [
    "# Cargar los datos"
   ]
  },
  {
   "cell_type": "code",
   "execution_count": 224,
   "metadata": {},
   "outputs": [],
   "source": [
    "import pandas as pd\n",
    "import os \n"
   ]
  },
  {
   "cell_type": "code",
   "execution_count": 225,
   "metadata": {},
   "outputs": [],
   "source": [
    "# rutas de artchivos \n",
    "root = \"../data/\" \n",
    "tarifas = \"ARESEP_Tarifas.csv\"\n",
    "pasajeros= \"pasajeros_movilizados/\""
   ]
  },
  {
   "cell_type": "markdown",
   "metadata": {},
   "source": [
    "## Tarifa de los diferentes buses"
   ]
  },
  {
   "cell_type": "code",
   "execution_count": 226,
   "metadata": {},
   "outputs": [],
   "source": [
    "#datos de tarifas \n",
    "df_tarifas = pd.read_csv(root+tarifas)\n"
   ]
  },
  {
   "cell_type": "markdown",
   "metadata": {},
   "source": [
    "## Pasajeros que utilizan los servicios"
   ]
  },
  {
   "cell_type": "code",
   "execution_count": 227,
   "metadata": {},
   "outputs": [
    {
     "name": "stdout",
     "output_type": "stream",
     "text": [
      "['ARESEP_Pasajeros_movilizados_2024_Enero.csv', 'ARESEP_Pasajeros_movilizados_2024_Febrero.csv', 'ARESEP_Pasajeros_movilizados_2024_Marzo.csv']\n"
     ]
    }
   ],
   "source": [
    "\n",
    "# Datos de pasajeros movilizados\n",
    "# obtener nombre de los files en un folder \n",
    "pasajeros_files = root + pasajeros\n",
    "files = os.listdir(pasajeros_files)\n",
    "print(files)\n",
    "df_pasajeros = pd.DataFrame()\n",
    "for file in files:\n",
    "    df_mes = pd.read_csv(pasajeros_files + file)\n",
    "    df_pasajeros = pd.concat([df_pasajeros,df_mes], axis=0) # axis 0 para combinar lso df verticalmente"
   ]
  },
  {
   "cell_type": "markdown",
   "metadata": {},
   "source": [
    "# Analysis exploratorio \n"
   ]
  },
  {
   "cell_type": "markdown",
   "metadata": {},
   "source": [
    "## Datos de los pasajeros movilizados"
   ]
  },
  {
   "cell_type": "code",
   "execution_count": 228,
   "metadata": {},
   "outputs": [
    {
     "name": "stdout",
     "output_type": "stream",
     "text": [
      "<class 'pandas.core.frame.DataFrame'>\n",
      "Index: 3131 entries, 0 to 1035\n",
      "Data columns (total 14 columns):\n",
      " #   Column                  Non-Null Count  Dtype  \n",
      "---  ------                  --------------  -----  \n",
      " 0   Nombre Operador         3131 non-null   object \n",
      " 1   Cédula                  3131 non-null   object \n",
      " 2   Código Ruta             3131 non-null   object \n",
      " 3   Descripción Ruta        3131 non-null   object \n",
      " 4   Código Ramal            3131 non-null   object \n",
      " 5   Descripción Ramal       3094 non-null   object \n",
      " 6   Mes                     3131 non-null   int64  \n",
      " 7   Año                     3131 non-null   int64  \n",
      " 8   pasajeroEquivalente     0 non-null      float64\n",
      " 9   pasajerosTotal          0 non-null      float64\n",
      " 10  Pasajeros Adulto Mayor  3037 non-null   float64\n",
      " 11  Pasajeros Regulares     3100 non-null   float64\n",
      " 12  Carreras                3105 non-null   float64\n",
      " 13  Ingresos                3100 non-null   float64\n",
      "dtypes: float64(6), int64(2), object(6)\n",
      "memory usage: 366.9+ KB\n"
     ]
    }
   ],
   "source": [
    "df_pasajeros.info()\n"
   ]
  },
  {
   "cell_type": "markdown",
   "metadata": {},
   "source": [
    "## Datos de las tarifas de los buses"
   ]
  },
  {
   "cell_type": "code",
   "execution_count": 229,
   "metadata": {},
   "outputs": [
    {
     "name": "stdout",
     "output_type": "stream",
     "text": [
      "<class 'pandas.core.frame.DataFrame'>\n",
      "RangeIndex: 4447 entries, 0 to 4446\n",
      "Data columns (total 14 columns):\n",
      " #   Column                                   Non-Null Count  Dtype  \n",
      "---  ------                                   --------------  -----  \n",
      " 0   Código Ruta                              4447 non-null   object \n",
      " 1   Nombre Ruta                              4447 non-null   object \n",
      " 2   Nombre Fraccionamiento                   4447 non-null   object \n",
      " 3   Km por Viaje (Promedio)                  4447 non-null   float64\n",
      " 4   Tarifa Regular (¢)                       4447 non-null   float64\n",
      " 5   Tarifa Adulto Mayor (¢)                  4447 non-null   float64\n",
      " 6   Resolución                               4447 non-null   object \n",
      " 7   Fecha de Resolución                      4447 non-null   object \n",
      " 8   Gaceta                                   4447 non-null   int64  \n",
      " 9   Alcance                                  4447 non-null   int64  \n",
      " 10  Fecha de la Gaceta                       4447 non-null   object \n",
      " 11  Fecha Vigencia                           4447 non-null   object \n",
      " 12  Expediente (Requisito de Admisibilidad)  4346 non-null   object \n",
      " 13  Operadores                               4447 non-null   object \n",
      "dtypes: float64(3), int64(2), object(9)\n",
      "memory usage: 486.5+ KB\n"
     ]
    },
    {
     "data": {
      "text/plain": [
       "('Expediente (Requisito de Admisibilidad)',)"
      ]
     },
     "execution_count": 229,
     "metadata": {},
     "output_type": "execute_result"
    }
   ],
   "source": [
    "df_tarifas.info()\n",
    "df_tarifas\n",
    "\"Expediente (Requisito de Admisibilidad)\", "
   ]
  },
  {
   "cell_type": "code",
   "execution_count": 230,
   "metadata": {},
   "outputs": [
    {
     "data": {
      "text/plain": [
       "(3131, 14)"
      ]
     },
     "execution_count": 230,
     "metadata": {},
     "output_type": "execute_result"
    }
   ],
   "source": [
    "df_pasajeros.describe()\n",
    "df_pasajeros.shape\n"
   ]
  },
  {
   "cell_type": "code",
   "execution_count": 231,
   "metadata": {},
   "outputs": [
    {
     "data": {
      "text/plain": [
       "(4447, 14)"
      ]
     },
     "execution_count": 231,
     "metadata": {},
     "output_type": "execute_result"
    }
   ],
   "source": [
    "df_tarifas.describe()\n",
    "df_tarifas.shape"
   ]
  },
  {
   "cell_type": "markdown",
   "metadata": {},
   "source": [
    "# Limpieza de los datos "
   ]
  },
  {
   "cell_type": "markdown",
   "metadata": {},
   "source": [
    "## Verificacion de nulls y eliminacion de columnas no necesarias en el analysis \n"
   ]
  },
  {
   "cell_type": "code",
   "execution_count": 232,
   "metadata": {},
   "outputs": [
    {
     "data": {
      "text/html": [
       "<div>\n",
       "<style scoped>\n",
       "    .dataframe tbody tr th:only-of-type {\n",
       "        vertical-align: middle;\n",
       "    }\n",
       "\n",
       "    .dataframe tbody tr th {\n",
       "        vertical-align: top;\n",
       "    }\n",
       "\n",
       "    .dataframe thead th {\n",
       "        text-align: right;\n",
       "    }\n",
       "</style>\n",
       "<table border=\"1\" class=\"dataframe\">\n",
       "  <thead>\n",
       "    <tr style=\"text-align: right;\">\n",
       "      <th></th>\n",
       "      <th>Nombre Operador</th>\n",
       "      <th>Cédula</th>\n",
       "      <th>Código Ruta</th>\n",
       "      <th>Descripción Ruta</th>\n",
       "      <th>Código Ramal</th>\n",
       "      <th>Descripción Ramal</th>\n",
       "      <th>Pasajeros Adulto Mayor</th>\n",
       "      <th>Pasajeros Regulares</th>\n",
       "      <th>Carreras</th>\n",
       "      <th>Ingresos</th>\n",
       "      <th>fecha</th>\n",
       "    </tr>\n",
       "  </thead>\n",
       "  <tbody>\n",
       "    <tr>\n",
       "      <th>0</th>\n",
       "      <td>A.T.Z. ALFARO RUIZ S.A.</td>\n",
       "      <td>3-101-554030</td>\n",
       "      <td>214</td>\n",
       "      <td>SAN JOSE-ZARCERO-LAGUNA DE ALFARO RUIZ</td>\n",
       "      <td>R0581</td>\n",
       "      <td>SAN JOSE-ZARCERO-LAGUNA DE ALFARO RUIZ</td>\n",
       "      <td>302.0</td>\n",
       "      <td>5865.0</td>\n",
       "      <td>116.0</td>\n",
       "      <td>7231885.0</td>\n",
       "      <td>2024-01-01</td>\n",
       "    </tr>\n",
       "    <tr>\n",
       "      <th>1</th>\n",
       "      <td>ALGONZA, S.A.</td>\n",
       "      <td>3-101-096643</td>\n",
       "      <td>542</td>\n",
       "      <td>NICOYA-NANDAYURE</td>\n",
       "      <td>R1417</td>\n",
       "      <td>NICOYA-NANDAYURE</td>\n",
       "      <td>397.0</td>\n",
       "      <td>3323.0</td>\n",
       "      <td>78.0</td>\n",
       "      <td>2784800.0</td>\n",
       "      <td>2024-01-01</td>\n",
       "    </tr>\n",
       "    <tr>\n",
       "      <th>2</th>\n",
       "      <td>ALPIZAR S.A.</td>\n",
       "      <td>3-101-074028</td>\n",
       "      <td>1235</td>\n",
       "      <td>ALAJUELA-EL LLANO-BRASIL-SEGURO SOCIAL</td>\n",
       "      <td>R0573</td>\n",
       "      <td>ALAJUELA-BARRIO FATIMA</td>\n",
       "      <td>498.0</td>\n",
       "      <td>2925.0</td>\n",
       "      <td>438.5</td>\n",
       "      <td>1096875.0</td>\n",
       "      <td>2024-01-01</td>\n",
       "    </tr>\n",
       "    <tr>\n",
       "      <th>3</th>\n",
       "      <td>ALPIZAR S.A.</td>\n",
       "      <td>3-101-074028</td>\n",
       "      <td>1235</td>\n",
       "      <td>ALAJUELA-EL LLANO-BRASIL-SEGURO SOCIAL</td>\n",
       "      <td>R0915</td>\n",
       "      <td>ALAJUELA-EL LLANO-BRASIL-BRASILIA-SEGURO SOCIA...</td>\n",
       "      <td>8410.0</td>\n",
       "      <td>20710.0</td>\n",
       "      <td>1299.0</td>\n",
       "      <td>7455600.0</td>\n",
       "      <td>2024-01-01</td>\n",
       "    </tr>\n",
       "    <tr>\n",
       "      <th>4</th>\n",
       "      <td>ALPIZAR S.A.</td>\n",
       "      <td>3-101-074028</td>\n",
       "      <td>1235</td>\n",
       "      <td>ALAJUELA-EL LLANO-BRASIL-SEGURO SOCIAL</td>\n",
       "      <td>R2300</td>\n",
       "      <td>ALAJUELA-TARGUASES-ERIZO</td>\n",
       "      <td>5803.0</td>\n",
       "      <td>34445.0</td>\n",
       "      <td>1450.0</td>\n",
       "      <td>12916875.0</td>\n",
       "      <td>2024-01-01</td>\n",
       "    </tr>\n",
       "    <tr>\n",
       "      <th>...</th>\n",
       "      <td>...</td>\n",
       "      <td>...</td>\n",
       "      <td>...</td>\n",
       "      <td>...</td>\n",
       "      <td>...</td>\n",
       "      <td>...</td>\n",
       "      <td>...</td>\n",
       "      <td>...</td>\n",
       "      <td>...</td>\n",
       "      <td>...</td>\n",
       "      <td>...</td>\n",
       "    </tr>\n",
       "    <tr>\n",
       "      <th>1031</th>\n",
       "      <td>Transryo S.A.</td>\n",
       "      <td>3-101-589064</td>\n",
       "      <td>542</td>\n",
       "      <td>NICOYA-NANDAYURE</td>\n",
       "      <td>R1417</td>\n",
       "      <td>NICOYA-NANDAYURE</td>\n",
       "      <td>51.0</td>\n",
       "      <td>3244.0</td>\n",
       "      <td>40.0</td>\n",
       "      <td>2137000.0</td>\n",
       "      <td>2024-03-01</td>\n",
       "    </tr>\n",
       "    <tr>\n",
       "      <th>1032</th>\n",
       "      <td>TRANSVI, S.A.</td>\n",
       "      <td>3-101-120819</td>\n",
       "      <td>25</td>\n",
       "      <td>SAN JOSE-CALLE BLANCOS-MONTELIMAR-SAN ANTONIO ...</td>\n",
       "      <td>R0129</td>\n",
       "      <td>SAN JOSE-CALLE BLANCOS-MONTELIMAR</td>\n",
       "      <td>16803.0</td>\n",
       "      <td>71087.0</td>\n",
       "      <td>1814.0</td>\n",
       "      <td>20259795.0</td>\n",
       "      <td>2024-03-01</td>\n",
       "    </tr>\n",
       "    <tr>\n",
       "      <th>1033</th>\n",
       "      <td>TRANSVI, S.A.</td>\n",
       "      <td>3-101-120819</td>\n",
       "      <td>25</td>\n",
       "      <td>SAN JOSE-CALLE BLANCOS-MONTELIMAR-SAN ANTONIO ...</td>\n",
       "      <td>R1908</td>\n",
       "      <td>SAN JOSE-CALLE BLANCOS-MONTELIMAR POR RECOPE</td>\n",
       "      <td>7179.0</td>\n",
       "      <td>46215.0</td>\n",
       "      <td>1293.0</td>\n",
       "      <td>13171275.0</td>\n",
       "      <td>2024-03-01</td>\n",
       "    </tr>\n",
       "    <tr>\n",
       "      <th>1034</th>\n",
       "      <td>VIDAL ENRIQUE Y MINOR, S.A.(VEMSA)</td>\n",
       "      <td>3-101-079398</td>\n",
       "      <td>366</td>\n",
       "      <td>CARTAGO-LLANO GRANDE</td>\n",
       "      <td>R1157</td>\n",
       "      <td>CARTAGO-BARRIO SAGRADA FAMILIA</td>\n",
       "      <td>245.0</td>\n",
       "      <td>2211.0</td>\n",
       "      <td>52.0</td>\n",
       "      <td>895875.0</td>\n",
       "      <td>2024-03-01</td>\n",
       "    </tr>\n",
       "    <tr>\n",
       "      <th>1035</th>\n",
       "      <td>VIDAL ENRIQUE Y MINOR, S.A.(VEMSA)</td>\n",
       "      <td>3-101-079398</td>\n",
       "      <td>366</td>\n",
       "      <td>CARTAGO-LLANO GRANDE</td>\n",
       "      <td>R1158</td>\n",
       "      <td>CARTAGO-LLANO GRANDE CON ENTRADA A LAS PAVAS</td>\n",
       "      <td>507.0</td>\n",
       "      <td>9873.0</td>\n",
       "      <td>93.5</td>\n",
       "      <td>4896355.0</td>\n",
       "      <td>2024-03-01</td>\n",
       "    </tr>\n",
       "  </tbody>\n",
       "</table>\n",
       "<p>3131 rows × 11 columns</p>\n",
       "</div>"
      ],
      "text/plain": [
       "                         Nombre Operador        Cédula Código Ruta  \\\n",
       "0                A.T.Z. ALFARO RUIZ S.A.  3-101-554030         214   \n",
       "1                          ALGONZA, S.A.  3-101-096643         542   \n",
       "2                           ALPIZAR S.A.  3-101-074028        1235   \n",
       "3                           ALPIZAR S.A.  3-101-074028        1235   \n",
       "4                           ALPIZAR S.A.  3-101-074028        1235   \n",
       "...                                  ...           ...         ...   \n",
       "1031                       Transryo S.A.  3-101-589064         542   \n",
       "1032                       TRANSVI, S.A.  3-101-120819          25   \n",
       "1033                       TRANSVI, S.A.  3-101-120819          25   \n",
       "1034  VIDAL ENRIQUE Y MINOR, S.A.(VEMSA)  3-101-079398         366   \n",
       "1035  VIDAL ENRIQUE Y MINOR, S.A.(VEMSA)  3-101-079398         366   \n",
       "\n",
       "                                       Descripción Ruta Código Ramal  \\\n",
       "0                SAN JOSE-ZARCERO-LAGUNA DE ALFARO RUIZ        R0581   \n",
       "1                                      NICOYA-NANDAYURE        R1417   \n",
       "2                ALAJUELA-EL LLANO-BRASIL-SEGURO SOCIAL        R0573   \n",
       "3                ALAJUELA-EL LLANO-BRASIL-SEGURO SOCIAL        R0915   \n",
       "4                ALAJUELA-EL LLANO-BRASIL-SEGURO SOCIAL        R2300   \n",
       "...                                                 ...          ...   \n",
       "1031                                   NICOYA-NANDAYURE        R1417   \n",
       "1032  SAN JOSE-CALLE BLANCOS-MONTELIMAR-SAN ANTONIO ...        R0129   \n",
       "1033  SAN JOSE-CALLE BLANCOS-MONTELIMAR-SAN ANTONIO ...        R1908   \n",
       "1034                               CARTAGO-LLANO GRANDE        R1157   \n",
       "1035                               CARTAGO-LLANO GRANDE        R1158   \n",
       "\n",
       "                                      Descripción Ramal  \\\n",
       "0                SAN JOSE-ZARCERO-LAGUNA DE ALFARO RUIZ   \n",
       "1                                      NICOYA-NANDAYURE   \n",
       "2                                ALAJUELA-BARRIO FATIMA   \n",
       "3     ALAJUELA-EL LLANO-BRASIL-BRASILIA-SEGURO SOCIA...   \n",
       "4                              ALAJUELA-TARGUASES-ERIZO   \n",
       "...                                                 ...   \n",
       "1031                                   NICOYA-NANDAYURE   \n",
       "1032                  SAN JOSE-CALLE BLANCOS-MONTELIMAR   \n",
       "1033       SAN JOSE-CALLE BLANCOS-MONTELIMAR POR RECOPE   \n",
       "1034                     CARTAGO-BARRIO SAGRADA FAMILIA   \n",
       "1035       CARTAGO-LLANO GRANDE CON ENTRADA A LAS PAVAS   \n",
       "\n",
       "      Pasajeros Adulto Mayor  Pasajeros Regulares  Carreras    Ingresos  \\\n",
       "0                      302.0               5865.0     116.0   7231885.0   \n",
       "1                      397.0               3323.0      78.0   2784800.0   \n",
       "2                      498.0               2925.0     438.5   1096875.0   \n",
       "3                     8410.0              20710.0    1299.0   7455600.0   \n",
       "4                     5803.0              34445.0    1450.0  12916875.0   \n",
       "...                      ...                  ...       ...         ...   \n",
       "1031                    51.0               3244.0      40.0   2137000.0   \n",
       "1032                 16803.0              71087.0    1814.0  20259795.0   \n",
       "1033                  7179.0              46215.0    1293.0  13171275.0   \n",
       "1034                   245.0               2211.0      52.0    895875.0   \n",
       "1035                   507.0               9873.0      93.5   4896355.0   \n",
       "\n",
       "          fecha  \n",
       "0    2024-01-01  \n",
       "1    2024-01-01  \n",
       "2    2024-01-01  \n",
       "3    2024-01-01  \n",
       "4    2024-01-01  \n",
       "...         ...  \n",
       "1031 2024-03-01  \n",
       "1032 2024-03-01  \n",
       "1033 2024-03-01  \n",
       "1034 2024-03-01  \n",
       "1035 2024-03-01  \n",
       "\n",
       "[3131 rows x 11 columns]"
      ]
     },
     "execution_count": 232,
     "metadata": {},
     "output_type": "execute_result"
    }
   ],
   "source": [
    "df_pasajeros[\"fecha\"] = pd.to_datetime(df_pasajeros[\"Año\"].astype(str) + \"-\" + df_pasajeros[\"Mes\"].astype(str) + \"-01\")\n",
    "col_pasajeros = [\"pasajeroEquivalente\",\"pasajerosTotal\",\"Año\",\"Mes\",]\n",
    "df_pasajeros = df_pasajeros.drop(columns=col_pasajeros)\n",
    "df_pasajeros"
   ]
  },
  {
   "cell_type": "code",
   "execution_count": 233,
   "metadata": {},
   "outputs": [
    {
     "data": {
      "text/html": [
       "<div>\n",
       "<style scoped>\n",
       "    .dataframe tbody tr th:only-of-type {\n",
       "        vertical-align: middle;\n",
       "    }\n",
       "\n",
       "    .dataframe tbody tr th {\n",
       "        vertical-align: top;\n",
       "    }\n",
       "\n",
       "    .dataframe thead th {\n",
       "        text-align: right;\n",
       "    }\n",
       "</style>\n",
       "<table border=\"1\" class=\"dataframe\">\n",
       "  <thead>\n",
       "    <tr style=\"text-align: right;\">\n",
       "      <th></th>\n",
       "      <th>Código Ruta</th>\n",
       "      <th>Nombre Fraccionamiento</th>\n",
       "      <th>Km por Viaje (Promedio)</th>\n",
       "      <th>Tarifa Regular (¢)</th>\n",
       "      <th>Tarifa Adulto Mayor (¢)</th>\n",
       "    </tr>\n",
       "  </thead>\n",
       "  <tbody>\n",
       "    <tr>\n",
       "      <th>0</th>\n",
       "      <td>I-1</td>\n",
       "      <td>DESAMPARADOS-MORAVIA</td>\n",
       "      <td>13.15</td>\n",
       "      <td>335.0</td>\n",
       "      <td>0.0</td>\n",
       "    </tr>\n",
       "    <tr>\n",
       "      <th>1</th>\n",
       "      <td>I-4</td>\n",
       "      <td>URUCA - GUADALUPE</td>\n",
       "      <td>11.30</td>\n",
       "      <td>350.0</td>\n",
       "      <td>0.0</td>\n",
       "    </tr>\n",
       "    <tr>\n",
       "      <th>2</th>\n",
       "      <td>I-5</td>\n",
       "      <td>URUCA-ESCAZU</td>\n",
       "      <td>9.25</td>\n",
       "      <td>425.0</td>\n",
       "      <td>0.0</td>\n",
       "    </tr>\n",
       "    <tr>\n",
       "      <th>3</th>\n",
       "      <td>I-3</td>\n",
       "      <td>SANTA ANA - SAN ANTONIO DE BELEN - LA VALENCIA</td>\n",
       "      <td>13.15</td>\n",
       "      <td>320.0</td>\n",
       "      <td>0.0</td>\n",
       "    </tr>\n",
       "    <tr>\n",
       "      <th>4</th>\n",
       "      <td>I-6</td>\n",
       "      <td>ESCAZU - ALAJUELITA - HATILLO</td>\n",
       "      <td>13.15</td>\n",
       "      <td>415.0</td>\n",
       "      <td>0.0</td>\n",
       "    </tr>\n",
       "    <tr>\n",
       "      <th>...</th>\n",
       "      <td>...</td>\n",
       "      <td>...</td>\n",
       "      <td>...</td>\n",
       "      <td>...</td>\n",
       "      <td>...</td>\n",
       "    </tr>\n",
       "    <tr>\n",
       "      <th>4442</th>\n",
       "      <td>347</td>\n",
       "      <td>TURRIALBA-SAN RAFAEL-SAN ANTONIO</td>\n",
       "      <td>18.35</td>\n",
       "      <td>525.0</td>\n",
       "      <td>0.0</td>\n",
       "    </tr>\n",
       "    <tr>\n",
       "      <th>4443</th>\n",
       "      <td>347</td>\n",
       "      <td>TURRIALBA-CALLE BAMBU-VERBENA SUR-VERBENA NORTE</td>\n",
       "      <td>3.14</td>\n",
       "      <td>525.0</td>\n",
       "      <td>0.0</td>\n",
       "    </tr>\n",
       "    <tr>\n",
       "      <th>4444</th>\n",
       "      <td>347</td>\n",
       "      <td>TURRIALBA-SANTA ROSA</td>\n",
       "      <td>7.93</td>\n",
       "      <td>350.0</td>\n",
       "      <td>0.0</td>\n",
       "    </tr>\n",
       "    <tr>\n",
       "      <th>4445</th>\n",
       "      <td>347</td>\n",
       "      <td>TURRIALBA-SANTA ROSA</td>\n",
       "      <td>7.93</td>\n",
       "      <td>350.0</td>\n",
       "      <td>0.0</td>\n",
       "    </tr>\n",
       "    <tr>\n",
       "      <th>4446</th>\n",
       "      <td>347</td>\n",
       "      <td>TURRIALBA-CALLE BAMBU-VERBENA SUR-VERBENA NORTE</td>\n",
       "      <td>3.14</td>\n",
       "      <td>525.0</td>\n",
       "      <td>0.0</td>\n",
       "    </tr>\n",
       "  </tbody>\n",
       "</table>\n",
       "<p>4447 rows × 5 columns</p>\n",
       "</div>"
      ],
      "text/plain": [
       "     Código Ruta                           Nombre Fraccionamiento  \\\n",
       "0            I-1                             DESAMPARADOS-MORAVIA   \n",
       "1            I-4                               URUCA - GUADALUPE    \n",
       "2            I-5                                     URUCA-ESCAZU   \n",
       "3            I-3   SANTA ANA - SAN ANTONIO DE BELEN - LA VALENCIA   \n",
       "4            I-6                    ESCAZU - ALAJUELITA - HATILLO   \n",
       "...          ...                                              ...   \n",
       "4442         347                 TURRIALBA-SAN RAFAEL-SAN ANTONIO   \n",
       "4443         347  TURRIALBA-CALLE BAMBU-VERBENA SUR-VERBENA NORTE   \n",
       "4444         347                             TURRIALBA-SANTA ROSA   \n",
       "4445         347                             TURRIALBA-SANTA ROSA   \n",
       "4446         347  TURRIALBA-CALLE BAMBU-VERBENA SUR-VERBENA NORTE   \n",
       "\n",
       "      Km por Viaje (Promedio)  Tarifa Regular (¢)  Tarifa Adulto Mayor (¢)  \n",
       "0                       13.15               335.0                      0.0  \n",
       "1                       11.30               350.0                      0.0  \n",
       "2                        9.25               425.0                      0.0  \n",
       "3                       13.15               320.0                      0.0  \n",
       "4                       13.15               415.0                      0.0  \n",
       "...                       ...                 ...                      ...  \n",
       "4442                    18.35               525.0                      0.0  \n",
       "4443                     3.14               525.0                      0.0  \n",
       "4444                     7.93               350.0                      0.0  \n",
       "4445                     7.93               350.0                      0.0  \n",
       "4446                     3.14               525.0                      0.0  \n",
       "\n",
       "[4447 rows x 5 columns]"
      ]
     },
     "execution_count": 233,
     "metadata": {},
     "output_type": "execute_result"
    }
   ],
   "source": [
    "df_tarifas = df_tarifas.iloc[:, :-8]  # Mantiene todas las filas y elimina las últimas 7 columnas\n",
    "df_tarifas = df_tarifas.drop(columns=[\"Nombre Ruta\"])\n",
    "df_tarifas"
   ]
  },
  {
   "cell_type": "markdown",
   "metadata": {},
   "source": [
    "## Eliminar nulos "
   ]
  },
  {
   "cell_type": "code",
   "execution_count": 234,
   "metadata": {},
   "outputs": [],
   "source": [
    "df_pasajeros = df_pasajeros.dropna(subset=[\"Descripción Ramal\"])\n"
   ]
  },
  {
   "cell_type": "code",
   "execution_count": 235,
   "metadata": {},
   "outputs": [],
   "source": [
    "df_tarifas = df_tarifas.dropna(subset=[\"Nombre Fraccionamiento\"])"
   ]
  },
  {
   "cell_type": "markdown",
   "metadata": {},
   "source": [
    "## Convertir en minuscula y eliminar caracteres especiales\n",
    "\n"
   ]
  },
  {
   "cell_type": "code",
   "execution_count": 236,
   "metadata": {},
   "outputs": [],
   "source": [
    "import re"
   ]
  },
  {
   "cell_type": "code",
   "execution_count": 237,
   "metadata": {},
   "outputs": [],
   "source": [
    "# Function for text preprocessing\n",
    "def preprocess_text(text):\n",
    "    try:\n",
    "        text = text.lower()  # Convert to lowercase\n",
    "        text = re.sub(r'[^a-zA-Z\\s]', '', text)  # Remove special characters\n",
    "    except:\n",
    "        print(\"error found\")\n",
    "    return text"
   ]
  },
  {
   "cell_type": "code",
   "execution_count": 238,
   "metadata": {},
   "outputs": [
    {
     "data": {
      "text/plain": [
       "<bound method NDFrame.describe of 0                  SAN JOSE-ZARCERO-LAGUNA DE ALFARO RUIZ\n",
       "1                                        NICOYA-NANDAYURE\n",
       "2                                  ALAJUELA-BARRIO FATIMA\n",
       "3       ALAJUELA-EL LLANO-BRASIL-BRASILIA-SEGURO SOCIA...\n",
       "4                                ALAJUELA-TARGUASES-ERIZO\n",
       "                              ...                        \n",
       "1031                                     NICOYA-NANDAYURE\n",
       "1032                    SAN JOSE-CALLE BLANCOS-MONTELIMAR\n",
       "1033         SAN JOSE-CALLE BLANCOS-MONTELIMAR POR RECOPE\n",
       "1034                       CARTAGO-BARRIO SAGRADA FAMILIA\n",
       "1035         CARTAGO-LLANO GRANDE CON ENTRADA A LAS PAVAS\n",
       "Name: Descripción Ramal, Length: 3094, dtype: object>"
      ]
     },
     "execution_count": 238,
     "metadata": {},
     "output_type": "execute_result"
    }
   ],
   "source": [
    "df_pasajeros[\"Descripción Ramal\"].describe\n"
   ]
  },
  {
   "cell_type": "code",
   "execution_count": 239,
   "metadata": {},
   "outputs": [
    {
     "name": "stderr",
     "output_type": "stream",
     "text": [
      "C:\\Users\\jeffh\\AppData\\Local\\Temp\\ipykernel_48320\\2557199775.py:2: SettingWithCopyWarning: \n",
      "A value is trying to be set on a copy of a slice from a DataFrame.\n",
      "Try using .loc[row_indexer,col_indexer] = value instead\n",
      "\n",
      "See the caveats in the documentation: https://pandas.pydata.org/pandas-docs/stable/user_guide/indexing.html#returning-a-view-versus-a-copy\n",
      "  df_pasajeros[\"Descripción Ramal\"] = df_pasajeros[\"Descripción Ramal\"].apply(preprocess_text)\n"
     ]
    }
   ],
   "source": [
    "df_tarifas[\"Nombre Fraccionamiento\"] = df_tarifas[\"Nombre Fraccionamiento\"].apply(preprocess_text)\n",
    "df_pasajeros[\"Descripción Ramal\"] = df_pasajeros[\"Descripción Ramal\"].apply(preprocess_text)"
   ]
  },
  {
   "cell_type": "markdown",
   "metadata": {},
   "source": [
    "## Unificar datos \n"
   ]
  },
  {
   "cell_type": "code",
   "execution_count": 240,
   "metadata": {},
   "outputs": [
    {
     "data": {
      "text/html": [
       "<div>\n",
       "<style scoped>\n",
       "    .dataframe tbody tr th:only-of-type {\n",
       "        vertical-align: middle;\n",
       "    }\n",
       "\n",
       "    .dataframe tbody tr th {\n",
       "        vertical-align: top;\n",
       "    }\n",
       "\n",
       "    .dataframe thead th {\n",
       "        text-align: right;\n",
       "    }\n",
       "</style>\n",
       "<table border=\"1\" class=\"dataframe\">\n",
       "  <thead>\n",
       "    <tr style=\"text-align: right;\">\n",
       "      <th></th>\n",
       "      <th>Descripción Ramal</th>\n",
       "      <th>Nombre Fraccionamiento</th>\n",
       "    </tr>\n",
       "  </thead>\n",
       "  <tbody>\n",
       "    <tr>\n",
       "      <th>3030</th>\n",
       "      <td>ext nicoyanosara</td>\n",
       "      <td>san joseconcepcion de alajuelita arriba por sa...</td>\n",
       "    </tr>\n",
       "    <tr>\n",
       "      <th>973</th>\n",
       "      <td>ext nicoyanosara</td>\n",
       "      <td>san ramonla ermita</td>\n",
       "    </tr>\n",
       "    <tr>\n",
       "      <th>2004</th>\n",
       "      <td>ext nicoyanosara</td>\n",
       "      <td>santa cruzpuente negro</td>\n",
       "    </tr>\n",
       "    <tr>\n",
       "      <th>2995</th>\n",
       "      <td>ext san josenaranjoconcepcion</td>\n",
       "      <td>paquitabamb</td>\n",
       "    </tr>\n",
       "    <tr>\n",
       "      <th>938</th>\n",
       "      <td>ext san josenaranjoconcepcion</td>\n",
       "      <td>san ramonbajo cordoba</td>\n",
       "    </tr>\n",
       "    <tr>\n",
       "      <th>...</th>\n",
       "      <td>...</td>\n",
       "      <td>...</td>\n",
       "    </tr>\n",
       "    <tr>\n",
       "      <th>4180</th>\n",
       "      <td>NaN</td>\n",
       "      <td>upalasanta lucia</td>\n",
       "    </tr>\n",
       "    <tr>\n",
       "      <th>4185</th>\n",
       "      <td>NaN</td>\n",
       "      <td>upalasanta lucia</td>\n",
       "    </tr>\n",
       "    <tr>\n",
       "      <th>4190</th>\n",
       "      <td>NaN</td>\n",
       "      <td>upalasanta lucia</td>\n",
       "    </tr>\n",
       "    <tr>\n",
       "      <th>4195</th>\n",
       "      <td>NaN</td>\n",
       "      <td>upalasanta lucia</td>\n",
       "    </tr>\n",
       "    <tr>\n",
       "      <th>4200</th>\n",
       "      <td>NaN</td>\n",
       "      <td>upalasanta lucia</td>\n",
       "    </tr>\n",
       "  </tbody>\n",
       "</table>\n",
       "<p>4447 rows × 2 columns</p>\n",
       "</div>"
      ],
      "text/plain": [
       "                    Descripción Ramal  \\\n",
       "3030                 ext nicoyanosara   \n",
       "973                  ext nicoyanosara   \n",
       "2004                 ext nicoyanosara   \n",
       "2995    ext san josenaranjoconcepcion   \n",
       "938     ext san josenaranjoconcepcion   \n",
       "...                               ...   \n",
       "4180                              NaN   \n",
       "4185                              NaN   \n",
       "4190                              NaN   \n",
       "4195                              NaN   \n",
       "4200                              NaN   \n",
       "\n",
       "                                 Nombre Fraccionamiento  \n",
       "3030  san joseconcepcion de alajuelita arriba por sa...  \n",
       "973                                  san ramonla ermita  \n",
       "2004                             santa cruzpuente negro  \n",
       "2995                                        paquitabamb  \n",
       "938                               san ramonbajo cordoba  \n",
       "...                                                 ...  \n",
       "4180                                   upalasanta lucia  \n",
       "4185                                   upalasanta lucia  \n",
       "4190                                   upalasanta lucia  \n",
       "4195                                   upalasanta lucia  \n",
       "4200                                   upalasanta lucia  \n",
       "\n",
       "[4447 rows x 2 columns]"
      ]
     },
     "execution_count": 240,
     "metadata": {},
     "output_type": "execute_result"
    }
   ],
   "source": [
    "df_compare = pd.concat([\n",
    "    df_pasajeros[\"Descripción Ramal\"].reset_index(drop=True),\n",
    "    df_tarifas[\"Nombre Fraccionamiento\"].reset_index(drop=True)\n",
    "], axis=1)\n",
    "\n",
    "df_compare = df_compare.sort_values(by=[\"Descripción Ramal\", \"Nombre Fraccionamiento\"])\n",
    "df_compare"
   ]
  },
  {
   "cell_type": "code",
   "execution_count": 241,
   "metadata": {},
   "outputs": [],
   "source": [
    "\n",
    "df = pd.merge(df_tarifas, df_pasajeros, right_on=[\"Código Ruta\", \"Descripción Ramal\"], left_on=[\"Código Ruta\", \"Nombre Fraccionamiento\"], how=\"inner\")"
   ]
  },
  {
   "cell_type": "code",
   "execution_count": 242,
   "metadata": {},
   "outputs": [
    {
     "data": {
      "text/plain": [
       "(4447, 5)"
      ]
     },
     "execution_count": 242,
     "metadata": {},
     "output_type": "execute_result"
    }
   ],
   "source": [
    "df_tarifas.shape\n",
    "\n"
   ]
  },
  {
   "cell_type": "code",
   "execution_count": 243,
   "metadata": {},
   "outputs": [
    {
     "data": {
      "text/plain": [
       "(3094, 11)"
      ]
     },
     "execution_count": 243,
     "metadata": {},
     "output_type": "execute_result"
    }
   ],
   "source": [
    "df_pasajeros.shape"
   ]
  },
  {
   "cell_type": "code",
   "execution_count": 244,
   "metadata": {},
   "outputs": [
    {
     "data": {
      "text/plain": [
       "(1153, 15)"
      ]
     },
     "execution_count": 244,
     "metadata": {},
     "output_type": "execute_result"
    }
   ],
   "source": [
    "df.shape"
   ]
  },
  {
   "cell_type": "code",
   "execution_count": 245,
   "metadata": {},
   "outputs": [
    {
     "data": {
      "text/html": [
       "<div>\n",
       "<style scoped>\n",
       "    .dataframe tbody tr th:only-of-type {\n",
       "        vertical-align: middle;\n",
       "    }\n",
       "\n",
       "    .dataframe tbody tr th {\n",
       "        vertical-align: top;\n",
       "    }\n",
       "\n",
       "    .dataframe thead th {\n",
       "        text-align: right;\n",
       "    }\n",
       "</style>\n",
       "<table border=\"1\" class=\"dataframe\">\n",
       "  <thead>\n",
       "    <tr style=\"text-align: right;\">\n",
       "      <th></th>\n",
       "      <th>Código Ruta</th>\n",
       "      <th>Nombre Fraccionamiento</th>\n",
       "      <th>Km por Viaje (Promedio)</th>\n",
       "      <th>Tarifa Regular (¢)</th>\n",
       "      <th>Tarifa Adulto Mayor (¢)</th>\n",
       "      <th>Nombre Operador</th>\n",
       "      <th>Cédula</th>\n",
       "      <th>Descripción Ruta</th>\n",
       "      <th>Código Ramal</th>\n",
       "      <th>Descripción Ramal</th>\n",
       "      <th>Pasajeros Adulto Mayor</th>\n",
       "      <th>Pasajeros Regulares</th>\n",
       "      <th>Carreras</th>\n",
       "      <th>Ingresos</th>\n",
       "      <th>fecha</th>\n",
       "    </tr>\n",
       "  </thead>\n",
       "  <tbody>\n",
       "    <tr>\n",
       "      <th>0</th>\n",
       "      <td>I-1</td>\n",
       "      <td>desamparadosmoravia</td>\n",
       "      <td>13.15</td>\n",
       "      <td>335.0</td>\n",
       "      <td>0.0</td>\n",
       "      <td>AUTOTRANSPORTES CESMAG, S.A.</td>\n",
       "      <td>3-101-065720</td>\n",
       "      <td>DESAMPARADOS-MORAVIA</td>\n",
       "      <td>R0002</td>\n",
       "      <td>desamparadosmoravia</td>\n",
       "      <td>2197.0</td>\n",
       "      <td>19987.0</td>\n",
       "      <td>233.0</td>\n",
       "      <td>6456600.0</td>\n",
       "      <td>2024-01-01</td>\n",
       "    </tr>\n",
       "    <tr>\n",
       "      <th>1</th>\n",
       "      <td>I-1</td>\n",
       "      <td>desamparadosmoravia</td>\n",
       "      <td>13.15</td>\n",
       "      <td>335.0</td>\n",
       "      <td>0.0</td>\n",
       "      <td>AUTOTRANSPORTES DESAMPARADOS, S.A.</td>\n",
       "      <td>3-101-008737</td>\n",
       "      <td>DESAMPARADOS-MORAVIA</td>\n",
       "      <td>R0002</td>\n",
       "      <td>desamparadosmoravia</td>\n",
       "      <td>2500.0</td>\n",
       "      <td>27694.0</td>\n",
       "      <td>306.0</td>\n",
       "      <td>9415960.0</td>\n",
       "      <td>2024-01-01</td>\n",
       "    </tr>\n",
       "    <tr>\n",
       "      <th>2</th>\n",
       "      <td>I-1</td>\n",
       "      <td>desamparadosmoravia</td>\n",
       "      <td>13.15</td>\n",
       "      <td>335.0</td>\n",
       "      <td>0.0</td>\n",
       "      <td>AUTOTRANSPORTES MORAVIA, S.A.</td>\n",
       "      <td>3-101-054596</td>\n",
       "      <td>DESAMPARADOS-MORAVIA</td>\n",
       "      <td>R0002</td>\n",
       "      <td>desamparadosmoravia</td>\n",
       "      <td>2246.0</td>\n",
       "      <td>23436.0</td>\n",
       "      <td>349.0</td>\n",
       "      <td>7968240.0</td>\n",
       "      <td>2024-01-01</td>\n",
       "    </tr>\n",
       "    <tr>\n",
       "      <th>3</th>\n",
       "      <td>I-1</td>\n",
       "      <td>desamparadosmoravia</td>\n",
       "      <td>13.15</td>\n",
       "      <td>335.0</td>\n",
       "      <td>0.0</td>\n",
       "      <td>AUTOTRANSPORTES SAN ANTONIO, S.A.</td>\n",
       "      <td>3-101-053317</td>\n",
       "      <td>DESAMPARADOS-MORAVIA</td>\n",
       "      <td>R0002</td>\n",
       "      <td>desamparadosmoravia</td>\n",
       "      <td>2270.0</td>\n",
       "      <td>23729.0</td>\n",
       "      <td>314.0</td>\n",
       "      <td>8067860.0</td>\n",
       "      <td>2024-01-01</td>\n",
       "    </tr>\n",
       "    <tr>\n",
       "      <th>4</th>\n",
       "      <td>I-1</td>\n",
       "      <td>desamparadosmoravia</td>\n",
       "      <td>13.15</td>\n",
       "      <td>335.0</td>\n",
       "      <td>0.0</td>\n",
       "      <td>AUTOTRANSPORTES CESMAG, S.A.</td>\n",
       "      <td>3-101-065720</td>\n",
       "      <td>DESAMPARADOS-MORAVIA</td>\n",
       "      <td>R0002</td>\n",
       "      <td>desamparadosmoravia</td>\n",
       "      <td>2321.0</td>\n",
       "      <td>23389.0</td>\n",
       "      <td>260.5</td>\n",
       "      <td>7940525.0</td>\n",
       "      <td>2024-02-01</td>\n",
       "    </tr>\n",
       "    <tr>\n",
       "      <th>...</th>\n",
       "      <td>...</td>\n",
       "      <td>...</td>\n",
       "      <td>...</td>\n",
       "      <td>...</td>\n",
       "      <td>...</td>\n",
       "      <td>...</td>\n",
       "      <td>...</td>\n",
       "      <td>...</td>\n",
       "      <td>...</td>\n",
       "      <td>...</td>\n",
       "      <td>...</td>\n",
       "      <td>...</td>\n",
       "      <td>...</td>\n",
       "      <td>...</td>\n",
       "      <td>...</td>\n",
       "    </tr>\n",
       "    <tr>\n",
       "      <th>1148</th>\n",
       "      <td>217</td>\n",
       "      <td>san josesan rafael</td>\n",
       "      <td>18.90</td>\n",
       "      <td>615.0</td>\n",
       "      <td>0.0</td>\n",
       "      <td>TRANSPORTES FERNANDO ZUÑIGA E HIJOS, S.A.</td>\n",
       "      <td>3-101-072628</td>\n",
       "      <td>SAN JOSE-BELEN-LA REFORMA-LA GUACIMA-SAN RAFAE...</td>\n",
       "      <td>R0589</td>\n",
       "      <td>san josesan rafael</td>\n",
       "      <td>980.0</td>\n",
       "      <td>25133.0</td>\n",
       "      <td>308.0</td>\n",
       "      <td>13103960.0</td>\n",
       "      <td>2024-02-01</td>\n",
       "    </tr>\n",
       "    <tr>\n",
       "      <th>1149</th>\n",
       "      <td>217</td>\n",
       "      <td>san josesan rafael</td>\n",
       "      <td>18.90</td>\n",
       "      <td>615.0</td>\n",
       "      <td>0.0</td>\n",
       "      <td>TRANSPORTES FERNANDO ZUÑIGA E HIJOS, S.A.</td>\n",
       "      <td>3-101-072628</td>\n",
       "      <td>SAN JOSE-BELEN-LA REFORMA-LA GUACIMA-SAN RAFAE...</td>\n",
       "      <td>R0589</td>\n",
       "      <td>san josesan rafael</td>\n",
       "      <td>1615.0</td>\n",
       "      <td>19516.0</td>\n",
       "      <td>298.5</td>\n",
       "      <td>10538640.0</td>\n",
       "      <td>2024-03-01</td>\n",
       "    </tr>\n",
       "    <tr>\n",
       "      <th>1150</th>\n",
       "      <td>512</td>\n",
       "      <td>san josenandayure</td>\n",
       "      <td>227.20</td>\n",
       "      <td>4525.0</td>\n",
       "      <td>3395.0</td>\n",
       "      <td>TRANSPORTES GUANACASTECOS RYOZUMO CR S.A.</td>\n",
       "      <td>3-101-680340</td>\n",
       "      <td>SAN JOSE-NANDAYURE Y VICEVERSA</td>\n",
       "      <td>R1416</td>\n",
       "      <td>san josenandayure</td>\n",
       "      <td>NaN</td>\n",
       "      <td>NaN</td>\n",
       "      <td>NaN</td>\n",
       "      <td>NaN</td>\n",
       "      <td>2024-01-01</td>\n",
       "    </tr>\n",
       "    <tr>\n",
       "      <th>1151</th>\n",
       "      <td>512</td>\n",
       "      <td>san josenandayure</td>\n",
       "      <td>227.20</td>\n",
       "      <td>4525.0</td>\n",
       "      <td>3395.0</td>\n",
       "      <td>TRANSPORTES GUANACASTECOS RYOZUMO CR S.A.</td>\n",
       "      <td>3-101-680340</td>\n",
       "      <td>SAN JOSE-NANDAYURE Y VICEVERSA</td>\n",
       "      <td>R1416</td>\n",
       "      <td>san josenandayure</td>\n",
       "      <td>107.0</td>\n",
       "      <td>2366.0</td>\n",
       "      <td>57.0</td>\n",
       "      <td>11619000.0</td>\n",
       "      <td>2024-02-01</td>\n",
       "    </tr>\n",
       "    <tr>\n",
       "      <th>1152</th>\n",
       "      <td>512</td>\n",
       "      <td>san josenandayure</td>\n",
       "      <td>227.20</td>\n",
       "      <td>4525.0</td>\n",
       "      <td>3395.0</td>\n",
       "      <td>TRANSPORTES GUANACASTECOS RYOZUMO CR S.A.</td>\n",
       "      <td>3-101-680340</td>\n",
       "      <td>SAN JOSE-NANDAYURE Y VICEVERSA</td>\n",
       "      <td>R1416</td>\n",
       "      <td>san josenandayure</td>\n",
       "      <td>113.0</td>\n",
       "      <td>2552.0</td>\n",
       "      <td>61.0</td>\n",
       "      <td>12498200.0</td>\n",
       "      <td>2024-03-01</td>\n",
       "    </tr>\n",
       "  </tbody>\n",
       "</table>\n",
       "<p>1153 rows × 15 columns</p>\n",
       "</div>"
      ],
      "text/plain": [
       "     Código Ruta Nombre Fraccionamiento  Km por Viaje (Promedio)  \\\n",
       "0            I-1    desamparadosmoravia                    13.15   \n",
       "1            I-1    desamparadosmoravia                    13.15   \n",
       "2            I-1    desamparadosmoravia                    13.15   \n",
       "3            I-1    desamparadosmoravia                    13.15   \n",
       "4            I-1    desamparadosmoravia                    13.15   \n",
       "...          ...                    ...                      ...   \n",
       "1148         217     san josesan rafael                    18.90   \n",
       "1149         217     san josesan rafael                    18.90   \n",
       "1150         512      san josenandayure                   227.20   \n",
       "1151         512      san josenandayure                   227.20   \n",
       "1152         512      san josenandayure                   227.20   \n",
       "\n",
       "      Tarifa Regular (¢)  Tarifa Adulto Mayor (¢)  \\\n",
       "0                  335.0                      0.0   \n",
       "1                  335.0                      0.0   \n",
       "2                  335.0                      0.0   \n",
       "3                  335.0                      0.0   \n",
       "4                  335.0                      0.0   \n",
       "...                  ...                      ...   \n",
       "1148               615.0                      0.0   \n",
       "1149               615.0                      0.0   \n",
       "1150              4525.0                   3395.0   \n",
       "1151              4525.0                   3395.0   \n",
       "1152              4525.0                   3395.0   \n",
       "\n",
       "                                Nombre Operador        Cédula  \\\n",
       "0                  AUTOTRANSPORTES CESMAG, S.A.  3-101-065720   \n",
       "1            AUTOTRANSPORTES DESAMPARADOS, S.A.  3-101-008737   \n",
       "2                 AUTOTRANSPORTES MORAVIA, S.A.  3-101-054596   \n",
       "3             AUTOTRANSPORTES SAN ANTONIO, S.A.  3-101-053317   \n",
       "4                  AUTOTRANSPORTES CESMAG, S.A.  3-101-065720   \n",
       "...                                         ...           ...   \n",
       "1148  TRANSPORTES FERNANDO ZUÑIGA E HIJOS, S.A.  3-101-072628   \n",
       "1149  TRANSPORTES FERNANDO ZUÑIGA E HIJOS, S.A.  3-101-072628   \n",
       "1150  TRANSPORTES GUANACASTECOS RYOZUMO CR S.A.  3-101-680340   \n",
       "1151  TRANSPORTES GUANACASTECOS RYOZUMO CR S.A.  3-101-680340   \n",
       "1152  TRANSPORTES GUANACASTECOS RYOZUMO CR S.A.  3-101-680340   \n",
       "\n",
       "                                       Descripción Ruta Código Ramal  \\\n",
       "0                                  DESAMPARADOS-MORAVIA        R0002   \n",
       "1                                  DESAMPARADOS-MORAVIA        R0002   \n",
       "2                                  DESAMPARADOS-MORAVIA        R0002   \n",
       "3                                  DESAMPARADOS-MORAVIA        R0002   \n",
       "4                                  DESAMPARADOS-MORAVIA        R0002   \n",
       "...                                                 ...          ...   \n",
       "1148  SAN JOSE-BELEN-LA REFORMA-LA GUACIMA-SAN RAFAE...        R0589   \n",
       "1149  SAN JOSE-BELEN-LA REFORMA-LA GUACIMA-SAN RAFAE...        R0589   \n",
       "1150                     SAN JOSE-NANDAYURE Y VICEVERSA        R1416   \n",
       "1151                     SAN JOSE-NANDAYURE Y VICEVERSA        R1416   \n",
       "1152                     SAN JOSE-NANDAYURE Y VICEVERSA        R1416   \n",
       "\n",
       "        Descripción Ramal  Pasajeros Adulto Mayor  Pasajeros Regulares  \\\n",
       "0     desamparadosmoravia                  2197.0              19987.0   \n",
       "1     desamparadosmoravia                  2500.0              27694.0   \n",
       "2     desamparadosmoravia                  2246.0              23436.0   \n",
       "3     desamparadosmoravia                  2270.0              23729.0   \n",
       "4     desamparadosmoravia                  2321.0              23389.0   \n",
       "...                   ...                     ...                  ...   \n",
       "1148   san josesan rafael                   980.0              25133.0   \n",
       "1149   san josesan rafael                  1615.0              19516.0   \n",
       "1150    san josenandayure                     NaN                  NaN   \n",
       "1151    san josenandayure                   107.0               2366.0   \n",
       "1152    san josenandayure                   113.0               2552.0   \n",
       "\n",
       "      Carreras    Ingresos      fecha  \n",
       "0        233.0   6456600.0 2024-01-01  \n",
       "1        306.0   9415960.0 2024-01-01  \n",
       "2        349.0   7968240.0 2024-01-01  \n",
       "3        314.0   8067860.0 2024-01-01  \n",
       "4        260.5   7940525.0 2024-02-01  \n",
       "...        ...         ...        ...  \n",
       "1148     308.0  13103960.0 2024-02-01  \n",
       "1149     298.5  10538640.0 2024-03-01  \n",
       "1150       NaN         NaN 2024-01-01  \n",
       "1151      57.0  11619000.0 2024-02-01  \n",
       "1152      61.0  12498200.0 2024-03-01  \n",
       "\n",
       "[1153 rows x 15 columns]"
      ]
     },
     "execution_count": 245,
     "metadata": {},
     "output_type": "execute_result"
    }
   ],
   "source": [
    "df"
   ]
  },
  {
   "cell_type": "markdown",
   "metadata": {},
   "source": [
    "# Modelo de predicion de ingresos mensuales\n"
   ]
  },
  {
   "cell_type": "code",
   "execution_count": 251,
   "metadata": {},
   "outputs": [],
   "source": [
    "# con este mdelo los operadores podrian proyectar y manejar mejor sus finanzas segun los ingresos promedio por mes \n",
    "from sklearn.model_selection import train_test_split\n",
    "from sklearn.preprocessing import StandardScaler, KBinsDiscretizer\n",
    "from sklearn.ensemble import RandomForestRegressor, RandomForestClassifier\n",
    "from sklearn.metrics import mean_absolute_error, mean_squared_error, r2_score, accuracy_score, classification_report"
   ]
  },
  {
   "cell_type": "code",
   "execution_count": 253,
   "metadata": {},
   "outputs": [],
   "source": [
    "# Convertir la columna de fecha a tipo datetime\n",
    "df[\"fecha\"] = pd.to_datetime(df[\"fecha\"])\n",
    "\n",
    "features = [\"Pasajeros Adulto Mayor\", \"Pasajeros Regulares\", \"Carreras\", \"Tarifa Regular (¢)\", \"Km por Viaje (Promedio)\"]\n",
    "X = df[features]\n",
    "y = df[\"Ingresos\"]"
   ]
  },
  {
   "cell_type": "markdown",
   "metadata": {},
   "source": [
    "# Modelo de Clasificación de operadores con mejor desempeño"
   ]
  },
  {
   "cell_type": "code",
   "execution_count": 248,
   "metadata": {},
   "outputs": [],
   "source": [
    "# con este modelo se buscaria replicar las cosas que hace el mejor operador en el que peor lo hace"
   ]
  },
  {
   "cell_type": "markdown",
   "metadata": {},
   "source": [
    "# Modelo de Predicción de cantidad de pasajeros"
   ]
  },
  {
   "cell_type": "code",
   "execution_count": null,
   "metadata": {},
   "outputs": [],
   "source": [
    "# con este modelo se puede valorar si es neceario agregar mas buses a la ruta o abrir nuevas rutas\n",
    "\n"
   ]
  },
  {
   "cell_type": "markdown",
   "metadata": {},
   "source": []
  }
 ],
 "metadata": {
  "kernelspec": {
   "display_name": "proyecto",
   "language": "python",
   "name": "python3"
  },
  "language_info": {
   "codemirror_mode": {
    "name": "ipython",
    "version": 3
   },
   "file_extension": ".py",
   "mimetype": "text/x-python",
   "name": "python",
   "nbconvert_exporter": "python",
   "pygments_lexer": "ipython3",
   "version": "3.12.0"
  }
 },
 "nbformat": 4,
 "nbformat_minor": 2
}
